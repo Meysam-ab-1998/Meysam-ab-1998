{
  "nbformat": 4,
  "nbformat_minor": 0,
  "metadata": {
    "colab": {
      "provenance": [],
      "gpuType": "T4",
      "authorship_tag": "ABX9TyNJXrBT6A97SbwVFabBNX5k",
      "include_colab_link": true
    },
    "kernelspec": {
      "name": "python3",
      "display_name": "Python 3"
    },
    "language_info": {
      "name": "python"
    },
    "accelerator": "GPU"
  },
  "cells": [
    {
      "cell_type": "markdown",
      "metadata": {
        "id": "view-in-github",
        "colab_type": "text"
      },
      "source": [
        "<a href=\"https://colab.research.google.com/github/Meysam-ab-1998/Meysam-ab-1998/blob/main/ssd_new_test.ipynb\" target=\"_parent\"><img src=\"https://colab.research.google.com/assets/colab-badge.svg\" alt=\"Open In Colab\"/></a>"
      ]
    },
    {
      "cell_type": "code",
      "execution_count": null,
      "metadata": {
        "colab": {
          "base_uri": "https://localhost:8080/",
          "height": 106
        },
        "id": "s1ZlgQCJHdfd",
        "outputId": "bfbf8a24-620a-4b10-af45-0d63d2047011"
      },
      "outputs": [
        {
          "output_type": "error",
          "ename": "SyntaxError",
          "evalue": "invalid syntax (<ipython-input-1-f154cab158b5>, line 20)",
          "traceback": [
            "\u001b[0;36m  File \u001b[0;32m\"<ipython-input-1-f154cab158b5>\"\u001b[0;36m, line \u001b[0;32m20\u001b[0m\n\u001b[0;31m    classes_to_labels = adversting bilbord detection.v1i.coco()\u001b[0m\n\u001b[0m                                   ^\u001b[0m\n\u001b[0;31mSyntaxError\u001b[0m\u001b[0;31m:\u001b[0m invalid syntax\n"
          ]
        }
      ],
      "source": [
        "import torch\n",
        "\n",
        "new_cache_dir = 'C:/torch_cache'\n",
        "torch.hub.set_dir(new_cache_dir)\n",
        "\n",
        "ssd_model = torch.hub.load('NVIDIA/DeepLearningExamples:torchhub', 'nvidia_ssd')\n",
        "utils = torch.hub.load('NVIDIA/DeepLearningExamples:torchhub', 'nvidia_ssd_processing_utils')\n",
        "ssd_model.to('cuda')\n",
        "ssd_model.eval()\n",
        "urls =[\"1100.jpg\"]\n",
        "\n",
        "inputs = [utils.prepare_input(uri) for uri in urls]\n",
        "tensor = utils.prepare_tensor(inputs)\n",
        "with torch.no_grad():\n",
        "    detections_batch = ssd_model(tensor)\n",
        "\n",
        "\n",
        "results_per_input = utils.decode_results(detections_batch)\n",
        "best_results_per_input = [utils.pick_best(results, 0.20) for results in results_per_input]\n",
        "classes_to_labels = utils.get_coco_object_dictionary()\n",
        "from matplotlib import pyplot as plt\n",
        "import matplotlib.patches as patches\n",
        "\n",
        "for image_idx in range(len(best_results_per_input)):\n",
        "    fig, ax = plt.subplots(1)\n",
        "    # Show original, denormalized image...\n",
        "    image = inputs[image_idx] / 2 + 0.5\n",
        "    ax.imshow(image)\n",
        "    # ...with detections\n",
        "    bboxes, classes, confidences = best_results_per_input[image_idx]\n",
        "    for idx in range(len(bboxes)):\n",
        "        left, bot, right, top = bboxes[idx]\n",
        "        x, y, w, h = [val * 300 for val in [left, bot, right - left, top - bot]]\n",
        "        rect = patches.Rectangle((x, y), w, h, linewidth=1, edgecolor='r',\\\n",
        "         facecolor='none')\n",
        "        ax.add_patch(rect)\n",
        "        ax.text(x, y, \"{} {:.0f}%\".format(classes_to_labels[classes[idx] - 1],\\\n",
        "         confidences[idx]*100), bbox=dict(facecolor='white', alpha=0.5))\n",
        "plt.show()\n"
      ]
    },
    {
      "cell_type": "code",
      "source": [],
      "metadata": {
        "id": "TcHTwXCD-hbE"
      },
      "execution_count": null,
      "outputs": []
    },
    {
      "cell_type": "code",
      "source": [
        "from google.colab import drive\n",
        "drive.mount('/content/drive')"
      ],
      "metadata": {
        "id": "71-h6aqO13Ry"
      },
      "execution_count": null,
      "outputs": []
    }
  ]
}